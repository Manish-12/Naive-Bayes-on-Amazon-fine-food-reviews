{
 "cells": [
  {
   "cell_type": "markdown",
   "metadata": {},
   "source": [
    "# [1] Amazon Fine Food Reviews Analysis\n",
    "\n",
    "\n",
    "Data Source: https://www.kaggle.com/snap/amazon-fine-food-reviews\n",
    "\n",
    "The Amazon Fine Food Reviews dataset consists of reviews of fine foods from Amazon.<br>\n",
    "\n",
    "Number of reviews: 568,454<br>\n",
    "Number of users: 256,059<br>\n",
    "Number of products: 74,258<br>\n",
    "Timespan: Oct 1999 - Oct 2012<br>\n",
    "Number of Attributes/Columns in data: 10 \n",
    "\n",
    "Attribute Information:\n",
    "\n",
    "1. Id\n",
    "2. ProductId - unique identifier for the product\n",
    "3. UserId - unqiue identifier for the user\n",
    "4. ProfileName\n",
    "5. HelpfulnessNumerator - number of users who found the review helpful\n",
    "6. HelpfulnessDenominator - number of users who indicated whether they found the review helpful or not\n",
    "7. Score - rating between 1 and 5\n",
    "8. Time - timestamp for the review\n",
    "9. Summary - brief summary of the review\n",
    "10. Text - text of the review\n",
    "\n",
    "\n",
    "#### Objective:\n",
    "Given a review, determine whether the review is positive (Rating of 4 or 5) or negative (rating of 1 or 2).\n",
    "\n",
    "<br>\n",
    "[Q] How to determine if a review is positive or negative?<br>\n",
    "<br> \n",
    "[Ans] We could use the Score/Rating. A rating of 4 or 5 could be cosnidered a positive review. A review of 1 or 2 could be considered negative. A review of 3 is nuetral and ignored. This is an approximate and proxy way of determining the polarity (positivity/negativity) of a review.\n"
   ]
  },
  {
   "cell_type": "markdown",
   "metadata": {},
   "source": [
    "## Loading the data\n",
    "\n",
    "The dataset is available in two forms\n",
    "1. .csv file\n",
    "2. SQLite Database\n",
    "\n",
    "In order to load the data, We have used the SQLITE dataset as it easier to query the data and visualise the data efficiently.\n",
    "<br> \n",
    "\n",
    "Here as we only want to get the global sentiment of the recommendations (positive or negative), we will purposefully ignore all Scores equal to 3. If the score id above 3, then the recommendation wil be set to \"positive\". Otherwise, it will be set to \"negative\"."
   ]
  },
  {
   "cell_type": "markdown",
   "metadata": {},
   "source": [
    "# Task to be performed:\n",
    "1. In this, We need to work with Only BOW and TFIDF.\n",
    "2. We need to Give proper reasoning for choosing the particular versions of Naive Bayes\n",
    "3. Choose different metric other than accuracy for choosing the best hyperparameter,\n",
    "which is apt for imbalanced datasets and accuracy sometimes gives us false conclusions\n",
    "about the model performance sometimes.\n",
    "4. Do hyperparameter tuning or some feature engineering and make your model better by\n",
    "reducing the false positives (Ex: adding the length of the reviews, getting some features\n",
    "from the summary column)\n",
    "5. We need to print the important features for each class, use model attributes to get the\n",
    "best features.\n",
    "6. Avoid submitting the models which are more biased towards positive points. Try to\n",
    "improve if everything or most of the points are predicting as positive."
   ]
  },
  {
   "cell_type": "code",
   "execution_count": 62,
   "metadata": {
    "collapsed": true
   },
   "outputs": [],
   "source": [
    "import numpy \n",
    "import pandas as pd\n",
    "import matplotlib.pyplot as plt \n",
    "from sklearn.metrics import confusion_matrix \n",
    "from sklearn.metrics import accuracy_score\n",
    "from sklearn.naive_bayes import BernoulliNB\n",
    "from sklearn.cross_validation import cross_val_score\n",
    "from sklearn.cross_validation import train_test_split\n",
    "from nltk.corpus import stopwords\n",
    "from nltk.stem import PorterStemmer\n",
    "from nltk.stem.wordnet import WordNetLemmatizer\n",
    "import re \n",
    "import sqlite3\n"
   ]
  },
  {
   "cell_type": "code",
   "execution_count": 63,
   "metadata": {},
   "outputs": [
    {
     "data": {
      "text/plain": [
       "(525814, 10)"
      ]
     },
     "execution_count": 63,
     "metadata": {},
     "output_type": "execute_result"
    }
   ],
   "source": [
    "con = sqlite3.connect(\"./amazon-fine-food-reviews/database.sqlite\")\n",
    "data = pd.read_sql_query('''\n",
    "SELECT *\n",
    "FROM REVIEWS\n",
    "WHERE SCORE != 3''', con)\n",
    "data.shape"
   ]
  },
  {
   "cell_type": "markdown",
   "metadata": {},
   "source": [
    "# Data Cleaning"
   ]
  },
  {
   "cell_type": "code",
   "execution_count": 64,
   "metadata": {},
   "outputs": [
    {
     "data": {
      "text/plain": [
       "(525812, 10)"
      ]
     },
     "execution_count": 64,
     "metadata": {},
     "output_type": "execute_result"
    }
   ],
   "source": [
    "data = data[data.HelpfulnessNumerator <= data.HelpfulnessDenominator]\n",
    "data.shape"
   ]
  },
  {
   "cell_type": "markdown",
   "metadata": {},
   "source": [
    "<b>Observation:-</b> It was also seen that in two rows given below the value of HelpfulnessNumerator is greater than HelpfulnessDenominator which is not practically possible hence these two rows too are removed from calcualtions"
   ]
  },
  {
   "cell_type": "code",
   "execution_count": 65,
   "metadata": {
    "scrolled": true
   },
   "outputs": [
    {
     "data": {
      "text/html": [
       "<div>\n",
       "<style>\n",
       "    .dataframe thead tr:only-child th {\n",
       "        text-align: right;\n",
       "    }\n",
       "\n",
       "    .dataframe thead th {\n",
       "        text-align: left;\n",
       "    }\n",
       "\n",
       "    .dataframe tbody tr th {\n",
       "        vertical-align: top;\n",
       "    }\n",
       "</style>\n",
       "<table border=\"1\" class=\"dataframe\">\n",
       "  <thead>\n",
       "    <tr style=\"text-align: right;\">\n",
       "      <th></th>\n",
       "      <th>Id</th>\n",
       "      <th>ProductId</th>\n",
       "      <th>UserId</th>\n",
       "      <th>ProfileName</th>\n",
       "      <th>HelpfulnessNumerator</th>\n",
       "      <th>HelpfulnessDenominator</th>\n",
       "      <th>Score</th>\n",
       "      <th>Time</th>\n",
       "      <th>Summary</th>\n",
       "      <th>Text</th>\n",
       "    </tr>\n",
       "  </thead>\n",
       "  <tbody>\n",
       "    <tr>\n",
       "      <th>138693</th>\n",
       "      <td>150511</td>\n",
       "      <td>0006641040</td>\n",
       "      <td>A1C9K534BCI9GO</td>\n",
       "      <td>Laura Purdie Salas</td>\n",
       "      <td>0</td>\n",
       "      <td>0</td>\n",
       "      <td>positive</td>\n",
       "      <td>1344211200</td>\n",
       "      <td>Charming and childlike</td>\n",
       "      <td>A charming, rhyming book that describes the ci...</td>\n",
       "    </tr>\n",
       "    <tr>\n",
       "      <th>138708</th>\n",
       "      <td>150526</td>\n",
       "      <td>0006641040</td>\n",
       "      <td>A3E9QZFE9KXH8J</td>\n",
       "      <td>R. Mitchell</td>\n",
       "      <td>11</td>\n",
       "      <td>18</td>\n",
       "      <td>negative</td>\n",
       "      <td>1129507200</td>\n",
       "      <td>awesome book poor size</td>\n",
       "      <td>This is one of the best children's books ever ...</td>\n",
       "    </tr>\n",
       "    <tr>\n",
       "      <th>138707</th>\n",
       "      <td>150525</td>\n",
       "      <td>0006641040</td>\n",
       "      <td>A2QID6VCFTY51R</td>\n",
       "      <td>Rick</td>\n",
       "      <td>1</td>\n",
       "      <td>2</td>\n",
       "      <td>positive</td>\n",
       "      <td>1025481600</td>\n",
       "      <td>In December it will be, my snowman's anniversa...</td>\n",
       "      <td>My daughter loves all the \"Really Rosie\" books...</td>\n",
       "    </tr>\n",
       "    <tr>\n",
       "      <th>138706</th>\n",
       "      <td>150524</td>\n",
       "      <td>0006641040</td>\n",
       "      <td>ACITT7DI6IDDL</td>\n",
       "      <td>shari zychinski</td>\n",
       "      <td>0</td>\n",
       "      <td>0</td>\n",
       "      <td>positive</td>\n",
       "      <td>939340800</td>\n",
       "      <td>EVERY book is educational</td>\n",
       "      <td>this witty little book makes my son laugh at l...</td>\n",
       "    </tr>\n",
       "    <tr>\n",
       "      <th>138705</th>\n",
       "      <td>150523</td>\n",
       "      <td>0006641040</td>\n",
       "      <td>A2P4F2UO0UMP8C</td>\n",
       "      <td>Elizabeth A. Curry \"Lovely Librarian\"</td>\n",
       "      <td>0</td>\n",
       "      <td>0</td>\n",
       "      <td>positive</td>\n",
       "      <td>1096675200</td>\n",
       "      <td>MMMM chicken soup....</td>\n",
       "      <td>Summary:  A young boy describes the usefulness...</td>\n",
       "    </tr>\n",
       "  </tbody>\n",
       "</table>\n",
       "</div>"
      ],
      "text/plain": [
       "            Id   ProductId          UserId  \\\n",
       "138693  150511  0006641040  A1C9K534BCI9GO   \n",
       "138708  150526  0006641040  A3E9QZFE9KXH8J   \n",
       "138707  150525  0006641040  A2QID6VCFTY51R   \n",
       "138706  150524  0006641040   ACITT7DI6IDDL   \n",
       "138705  150523  0006641040  A2P4F2UO0UMP8C   \n",
       "\n",
       "                                  ProfileName  HelpfulnessNumerator  \\\n",
       "138693                     Laura Purdie Salas                     0   \n",
       "138708                            R. Mitchell                    11   \n",
       "138707                                   Rick                     1   \n",
       "138706                        shari zychinski                     0   \n",
       "138705  Elizabeth A. Curry \"Lovely Librarian\"                     0   \n",
       "\n",
       "        HelpfulnessDenominator     Score        Time  \\\n",
       "138693                       0  positive  1344211200   \n",
       "138708                      18  negative  1129507200   \n",
       "138707                       2  positive  1025481600   \n",
       "138706                       0  positive   939340800   \n",
       "138705                       0  positive  1096675200   \n",
       "\n",
       "                                                  Summary  \\\n",
       "138693                             Charming and childlike   \n",
       "138708                             awesome book poor size   \n",
       "138707  In December it will be, my snowman's anniversa...   \n",
       "138706                          EVERY book is educational   \n",
       "138705                              MMMM chicken soup....   \n",
       "\n",
       "                                                     Text  \n",
       "138693  A charming, rhyming book that describes the ci...  \n",
       "138708  This is one of the best children's books ever ...  \n",
       "138707  My daughter loves all the \"Really Rosie\" books...  \n",
       "138706  this witty little book makes my son laugh at l...  \n",
       "138705  Summary:  A young boy describes the usefulness...  "
      ]
     },
     "execution_count": 65,
     "metadata": {},
     "output_type": "execute_result"
    }
   ],
   "source": [
    "data['Score'] = data[\"Score\"].apply(lambda x: \"positive\" if x > 3 else \"negative\")\n",
    "sorted_data = data.sort_values('ProductId',axis = 0, inplace = False, kind = 'quicksort',ascending = True)\n",
    "sorted_data.head()"
   ]
  },
  {
   "cell_type": "code",
   "execution_count": 66,
   "metadata": {},
   "outputs": [
    {
     "data": {
      "text/plain": [
       "(328770, 10)"
      ]
     },
     "execution_count": 66,
     "metadata": {},
     "output_type": "execute_result"
    }
   ],
   "source": [
    "filtered_data = sorted_data.drop_duplicates(subset = {'UserId','ProfileName','Time'} ,keep = 'first', inplace = False)\n",
    "filtered_data.shape"
   ]
  },
  {
   "cell_type": "code",
   "execution_count": 67,
   "metadata": {},
   "outputs": [
    {
     "data": {
      "text/plain": [
       "positive    275650\n",
       "negative     53120\n",
       "Name: Score, dtype: int64"
      ]
     },
     "execution_count": 67,
     "metadata": {},
     "output_type": "execute_result"
    }
   ],
   "source": [
    "filtered_data['Score'].value_counts()"
   ]
  },
  {
   "cell_type": "code",
   "execution_count": 68,
   "metadata": {
    "collapsed": true
   },
   "outputs": [],
   "source": [
    "final = filtered_data.copy()"
   ]
  },
  {
   "cell_type": "code",
   "execution_count": 69,
   "metadata": {
    "collapsed": true
   },
   "outputs": [],
   "source": [
    "import nltk"
   ]
  },
  {
   "cell_type": "code",
   "execution_count": 70,
   "metadata": {},
   "outputs": [
    {
     "name": "stdout",
     "output_type": "stream",
     "text": [
      "[nltk_data] Downloading package stopwords to C:\\Users\\manish\n",
      "[nltk_data]     dogra\\AppData\\Roaming\\nltk_data...\n",
      "[nltk_data]   Package stopwords is already up-to-date!\n"
     ]
    },
    {
     "data": {
      "text/plain": [
       "True"
      ]
     },
     "execution_count": 70,
     "metadata": {},
     "output_type": "execute_result"
    }
   ],
   "source": [
    "nltk.download('stopwords')"
   ]
  },
  {
   "cell_type": "code",
   "execution_count": 71,
   "metadata": {
    "collapsed": true
   },
   "outputs": [],
   "source": [
    "stop = set(stopwords.words(\"english\"))\n"
   ]
  },
  {
   "cell_type": "code",
   "execution_count": 72,
   "metadata": {},
   "outputs": [
    {
     "data": {
      "text/plain": [
       "'burn'"
      ]
     },
     "execution_count": 72,
     "metadata": {},
     "output_type": "execute_result"
    }
   ],
   "source": [
    "st = PorterStemmer()\n",
    "st.stem('burned')"
   ]
  },
  {
   "cell_type": "markdown",
   "metadata": {},
   "source": [
    "##  Text Preprocessing: Stemming, stop-word removal and Lemmatization.\n",
    "\n",
    "Now that we have finished deduplication our data requires some preprocessing before we go on further with analysis and making the prediction model.\n",
    "\n",
    "Hence in the Preprocessing phase we do the following in the order below:-\n",
    "\n",
    "1. Begin by removing the html tags\n",
    "2. Remove any punctuations or limited set of special characters like , or . or # etc.\n",
    "3. Check if the word is made up of english letters and is not alpha-numeric\n",
    "4. Check to see if the length of the word is greater than 2 (as it was researched that there is no adjective in 2-letters)\n",
    "5. Convert the word to lowercase\n",
    "6. Remove Stopwords\n",
    "7. Finally Snowball Stemming the word (it was obsereved to be better than Porter Stemming)<br>\n",
    "\n",
    "After which we collect the words used to describe positive and negative reviews"
   ]
  },
  {
   "cell_type": "code",
   "execution_count": 73,
   "metadata": {
    "collapsed": true
   },
   "outputs": [],
   "source": [
    "def cleanhtml(sent):\n",
    "    cleanr = re.compile('<.*?>')\n",
    "    cleaned = re.sub(cleanr,' ',sent)\n",
    "    return cleaned\n",
    "def cleanpunc(sent):\n",
    "    clean = re.sub(r'[?|!|$|#|\\'|\"|:]',r'',sent)\n",
    "    clean = re.sub(r'[,|(|)|.|\\|/]',r' ',clean)\n",
    "    return clean"
   ]
  },
  {
   "cell_type": "code",
   "execution_count": 74,
   "metadata": {
    "collapsed": true
   },
   "outputs": [],
   "source": [
    "i=0\n",
    "all_positive_reviews =[]\n",
    "all_negative_reviews = []\n",
    "final_string = []\n",
    "stem_data = \" \"\n",
    "for p in final['Text'].values:\n",
    "    filtered_sens = []#filtered word\n",
    "    p = cleanhtml(p)\n",
    "    for w in p.split():\n",
    "       # print(w)\n",
    "        punc = cleanpunc(w)\n",
    "        for s in punc.split():\n",
    "            #print(w)\n",
    "            if (s.isalpha()) & (len(s)>2):\n",
    "                if s.lower() not in stop:\n",
    "                    stem_data = (st.stem(s.lower())).encode('utf8')\n",
    "                    #can we use lemmatizer and stemming altogether??\n",
    "                    filtered_sens.append(stem_data)\n",
    "                    if (final['Score'].values)[i] == 'positive':\n",
    "                        all_positive_reviews.append(stem_data)\n",
    "                    if (final['Score'].values)[i] == 'negative':\n",
    "                        all_negative_reviews.append(stem_data)\n",
    "                else:\n",
    "                    continue\n",
    "            else:\n",
    "                continue\n",
    "    #print(filtered_sens)\n",
    "    str1 = b\" \".join(filtered_sens)\n",
    "    #print(str1)\n",
    "    final_string.append(str1)\n",
    "    i+=1"
   ]
  },
  {
   "cell_type": "code",
   "execution_count": 75,
   "metadata": {
    "scrolled": true
   },
   "outputs": [
    {
     "data": {
      "text/html": [
       "<div>\n",
       "<style>\n",
       "    .dataframe thead tr:only-child th {\n",
       "        text-align: right;\n",
       "    }\n",
       "\n",
       "    .dataframe thead th {\n",
       "        text-align: left;\n",
       "    }\n",
       "\n",
       "    .dataframe tbody tr th {\n",
       "        vertical-align: top;\n",
       "    }\n",
       "</style>\n",
       "<table border=\"1\" class=\"dataframe\">\n",
       "  <thead>\n",
       "    <tr style=\"text-align: right;\">\n",
       "      <th></th>\n",
       "      <th>Id</th>\n",
       "      <th>ProductId</th>\n",
       "      <th>UserId</th>\n",
       "      <th>ProfileName</th>\n",
       "      <th>HelpfulnessNumerator</th>\n",
       "      <th>HelpfulnessDenominator</th>\n",
       "      <th>Score</th>\n",
       "      <th>Time</th>\n",
       "      <th>Summary</th>\n",
       "      <th>Text</th>\n",
       "      <th>CleanedText</th>\n",
       "    </tr>\n",
       "  </thead>\n",
       "  <tbody>\n",
       "    <tr>\n",
       "      <th>138693</th>\n",
       "      <td>150511</td>\n",
       "      <td>0006641040</td>\n",
       "      <td>A1C9K534BCI9GO</td>\n",
       "      <td>Laura Purdie Salas</td>\n",
       "      <td>0</td>\n",
       "      <td>0</td>\n",
       "      <td>positive</td>\n",
       "      <td>1344211200</td>\n",
       "      <td>Charming and childlike</td>\n",
       "      <td>A charming, rhyming book that describes the ci...</td>\n",
       "      <td>b'charm rhyme book describ circumst eat dont c...</td>\n",
       "    </tr>\n",
       "    <tr>\n",
       "      <th>138708</th>\n",
       "      <td>150526</td>\n",
       "      <td>0006641040</td>\n",
       "      <td>A3E9QZFE9KXH8J</td>\n",
       "      <td>R. Mitchell</td>\n",
       "      <td>11</td>\n",
       "      <td>18</td>\n",
       "      <td>negative</td>\n",
       "      <td>1129507200</td>\n",
       "      <td>awesome book poor size</td>\n",
       "      <td>This is one of the best children's books ever ...</td>\n",
       "      <td>b'one best children book ever written mini ver...</td>\n",
       "    </tr>\n",
       "    <tr>\n",
       "      <th>138707</th>\n",
       "      <td>150525</td>\n",
       "      <td>0006641040</td>\n",
       "      <td>A2QID6VCFTY51R</td>\n",
       "      <td>Rick</td>\n",
       "      <td>1</td>\n",
       "      <td>2</td>\n",
       "      <td>positive</td>\n",
       "      <td>1025481600</td>\n",
       "      <td>In December it will be, my snowman's anniversa...</td>\n",
       "      <td>My daughter loves all the \"Really Rosie\" books...</td>\n",
       "      <td>b'daughter love realli rosi book introduc real...</td>\n",
       "    </tr>\n",
       "    <tr>\n",
       "      <th>138706</th>\n",
       "      <td>150524</td>\n",
       "      <td>0006641040</td>\n",
       "      <td>ACITT7DI6IDDL</td>\n",
       "      <td>shari zychinski</td>\n",
       "      <td>0</td>\n",
       "      <td>0</td>\n",
       "      <td>positive</td>\n",
       "      <td>939340800</td>\n",
       "      <td>EVERY book is educational</td>\n",
       "      <td>this witty little book makes my son laugh at l...</td>\n",
       "      <td>b'witti littl book make son laugh loud recit c...</td>\n",
       "    </tr>\n",
       "    <tr>\n",
       "      <th>138705</th>\n",
       "      <td>150523</td>\n",
       "      <td>0006641040</td>\n",
       "      <td>A2P4F2UO0UMP8C</td>\n",
       "      <td>Elizabeth A. Curry \"Lovely Librarian\"</td>\n",
       "      <td>0</td>\n",
       "      <td>0</td>\n",
       "      <td>positive</td>\n",
       "      <td>1096675200</td>\n",
       "      <td>MMMM chicken soup....</td>\n",
       "      <td>Summary:  A young boy describes the usefulness...</td>\n",
       "      <td>b'summari young boy describ use chicken soup r...</td>\n",
       "    </tr>\n",
       "  </tbody>\n",
       "</table>\n",
       "</div>"
      ],
      "text/plain": [
       "            Id   ProductId          UserId  \\\n",
       "138693  150511  0006641040  A1C9K534BCI9GO   \n",
       "138708  150526  0006641040  A3E9QZFE9KXH8J   \n",
       "138707  150525  0006641040  A2QID6VCFTY51R   \n",
       "138706  150524  0006641040   ACITT7DI6IDDL   \n",
       "138705  150523  0006641040  A2P4F2UO0UMP8C   \n",
       "\n",
       "                                  ProfileName  HelpfulnessNumerator  \\\n",
       "138693                     Laura Purdie Salas                     0   \n",
       "138708                            R. Mitchell                    11   \n",
       "138707                                   Rick                     1   \n",
       "138706                        shari zychinski                     0   \n",
       "138705  Elizabeth A. Curry \"Lovely Librarian\"                     0   \n",
       "\n",
       "        HelpfulnessDenominator     Score        Time  \\\n",
       "138693                       0  positive  1344211200   \n",
       "138708                      18  negative  1129507200   \n",
       "138707                       2  positive  1025481600   \n",
       "138706                       0  positive   939340800   \n",
       "138705                       0  positive  1096675200   \n",
       "\n",
       "                                                  Summary  \\\n",
       "138693                             Charming and childlike   \n",
       "138708                             awesome book poor size   \n",
       "138707  In December it will be, my snowman's anniversa...   \n",
       "138706                          EVERY book is educational   \n",
       "138705                              MMMM chicken soup....   \n",
       "\n",
       "                                                     Text  \\\n",
       "138693  A charming, rhyming book that describes the ci...   \n",
       "138708  This is one of the best children's books ever ...   \n",
       "138707  My daughter loves all the \"Really Rosie\" books...   \n",
       "138706  this witty little book makes my son laugh at l...   \n",
       "138705  Summary:  A young boy describes the usefulness...   \n",
       "\n",
       "                                              CleanedText  \n",
       "138693  b'charm rhyme book describ circumst eat dont c...  \n",
       "138708  b'one best children book ever written mini ver...  \n",
       "138707  b'daughter love realli rosi book introduc real...  \n",
       "138706  b'witti littl book make son laugh loud recit c...  \n",
       "138705  b'summari young boy describ use chicken soup r...  "
      ]
     },
     "execution_count": 75,
     "metadata": {},
     "output_type": "execute_result"
    }
   ],
   "source": [
    "final['CleanedText'] = final_string\n",
    "final.head()"
   ]
  },
  {
   "cell_type": "code",
   "execution_count": 76,
   "metadata": {
    "collapsed": true
   },
   "outputs": [],
   "source": [
    "from sklearn.feature_extraction.text import TfidfTransformer\n",
    "from sklearn.feature_extraction.text import TfidfVectorizer\n",
    "from sklearn.feature_extraction.text import CountVectorizer"
   ]
  },
  {
   "cell_type": "code",
   "execution_count": 77,
   "metadata": {
    "collapsed": true
   },
   "outputs": [],
   "source": [
    "final = final.sort_values('Time',axis= 0,inplace = False , na_position = 'last',ascending = True)\n",
    "X = final['CleanedText'].values\n",
    "X = X[:100000]\n",
    "y = final['Score'].values\n",
    "y = y[:100000]"
   ]
  },
  {
   "cell_type": "code",
   "execution_count": 78,
   "metadata": {
    "collapsed": true
   },
   "outputs": [],
   "source": [
    "X_train,X_test,y_train,y_test = train_test_split(X,y,test_size = 0.2,stratify = y)"
   ]
  },
  {
   "cell_type": "markdown",
   "metadata": {},
   "source": [
    "# Naive bayes on Bow"
   ]
  },
  {
   "cell_type": "code",
   "execution_count": 79,
   "metadata": {
    "collapsed": true,
    "scrolled": true
   },
   "outputs": [],
   "source": [
    "count_vect = CountVectorizer(binary =True) #in scikit-learn\n",
    "bow_train = count_vect.fit_transform(X_train)\n",
    "bow_test = count_vect.transform(X_test)\n",
    "#count_vect.get_feature_names()"
   ]
  },
  {
   "cell_type": "code",
   "execution_count": 80,
   "metadata": {
    "collapsed": true
   },
   "outputs": [],
   "source": [
    "import numpy as np"
   ]
  },
  {
   "cell_type": "code",
   "execution_count": 81,
   "metadata": {
    "collapsed": true
   },
   "outputs": [],
   "source": [
    "alp = [10**i for i in range(-3,4)]"
   ]
  },
  {
   "cell_type": "code",
   "execution_count": 82,
   "metadata": {
    "collapsed": true
   },
   "outputs": [],
   "source": [
    "cross_score = []\n",
    "for alphas in alp:\n",
    "    clf = BernoulliNB(alpha = alphas)\n",
    "    cross_val = cross_val_score(clf,bow_train,y_train,cv=10,scoring = 'accuracy',n_jobs = -1)\n",
    "    cross_score.append(cross_val.mean())"
   ]
  },
  {
   "cell_type": "code",
   "execution_count": 83,
   "metadata": {
    "collapsed": true
   },
   "outputs": [],
   "source": [
    "MSE = [1-x for x in cross_score]\n",
    "optimal_alpha = alp[MSE.index(min(MSE))]"
   ]
  },
  {
   "cell_type": "code",
   "execution_count": 84,
   "metadata": {
    "collapsed": true
   },
   "outputs": [],
   "source": [
    "optimal_clf = BernoulliNB(alpha = optimal_alpha)\n",
    "optimal_clf.fit(bow_train,y_train)\n",
    "pred  = optimal_clf.predict(bow_test)\n"
   ]
  },
  {
   "cell_type": "markdown",
   "metadata": {},
   "source": [
    "# Accuracy"
   ]
  },
  {
   "cell_type": "code",
   "execution_count": 85,
   "metadata": {},
   "outputs": [
    {
     "name": "stdout",
     "output_type": "stream",
     "text": [
      "The accuracy for optimal alpha = 0.001 is 89.995\n"
     ]
    }
   ],
   "source": [
    "acc = accuracy_score(y_test,pred)*100\n",
    "print(\"The accuracy for optimal alpha = {0} is {1}\".format(optimal_alpha,acc))"
   ]
  },
  {
   "cell_type": "code",
   "execution_count": 86,
   "metadata": {
    "scrolled": true
   },
   "outputs": [
    {
     "name": "stdout",
     "output_type": "stream",
     "text": [
      "             precision    recall  f1-score   support\n",
      "\n",
      "   negative       0.62      0.53      0.58      2541\n",
      "   positive       0.93      0.95      0.94     17459\n",
      "\n",
      "avg / total       0.89      0.90      0.90     20000\n",
      "\n"
     ]
    }
   ],
   "source": [
    "from sklearn.metrics import classification_report\n",
    "#target_names = ['class 0', 'class 1']\n",
    "print(classification_report(y_test,pred))"
   ]
  },
  {
   "cell_type": "markdown",
   "metadata": {},
   "source": [
    "# Recall , Precison and auc_score"
   ]
  },
  {
   "cell_type": "code",
   "execution_count": 87,
   "metadata": {},
   "outputs": [
    {
     "name": "stdout",
     "output_type": "stream",
     "text": [
      "RECALL SCORE\n",
      "0.953090096798\n",
      "0.534828807556\n",
      "\n",
      "\n",
      "PRECISION SCORE\n",
      "0.933677477275\n",
      "0.623966942149\n"
     ]
    }
   ],
   "source": [
    "from sklearn.metrics import recall_score , precision_score , roc_auc_score ,roc_curve\n",
    "print('RECALL SCORE')\n",
    "print(recall_score(y_test,pred,pos_label = 'positive'))\n",
    "print(recall_score(y_test,pred,pos_label= 'negative') )\n",
    "print('\\n')\n",
    "print('PRECISION SCORE')\n",
    "print(precision_score(y_test,pred,pos_label = 'positive'))\n",
    "print(precision_score(y_test,pred,pos_label = 'negative'))"
   ]
  },
  {
   "cell_type": "markdown",
   "metadata": {},
   "source": [
    "# ROC Curve"
   ]
  },
  {
   "cell_type": "code",
   "execution_count": 88,
   "metadata": {},
   "outputs": [
    {
     "data": {
      "image/png": "[encoded data removed]",
      "text/plain": [
       "<matplotlib.figure.Figure at 0x20ccbaa85f8>"
      ]
     },
     "metadata": {},
     "output_type": "display_data"
    }
   ],
   "source": [
    "change = lambda x : 1 if x == 'positive' else 0\n",
    "y_true = np.array([change(x) for x in y_test])\n",
    "y_pred =optimal_clf.predict_proba(bow_test)[:,1]\n",
    "#print(y_pred[:,1])\n",
    "\n",
    "fpr,tpr,thresholds = roc_curve(y_true, y_pred)\n",
    "plt.plot(fpr,tpr,'r--')\n",
    "plt.ylabel('True Positive Rate')\n",
    "plt.xlabel('False Positive Rate')\n",
    "plt.legend()\n",
    "plt.show()"
   ]
  },
  {
   "cell_type": "code",
   "execution_count": 89,
   "metadata": {
    "scrolled": true
   },
   "outputs": [
    {
     "name": "stdout",
     "output_type": "stream",
     "text": [
      "0.881352542626\n"
     ]
    }
   ],
   "source": [
    "print(roc_auc_score(y_true,y_pred))"
   ]
  },
  {
   "cell_type": "markdown",
   "metadata": {},
   "source": [
    "# Confusion Matrix"
   ]
  },
  {
   "cell_type": "code",
   "execution_count": 90,
   "metadata": {
    "scrolled": false
   },
   "outputs": [
    {
     "name": "stdout",
     "output_type": "stream",
     "text": [
      "[[ 1359  1182]\n",
      " [  819 16640]]\n"
     ]
    },
    {
     "data": {
      "image/png": "[encoded data removed]",
      "text/plain": [
       "<matplotlib.figure.Figure at 0x20c9f8d8cf8>"
      ]
     },
     "metadata": {},
     "output_type": "display_data"
    }
   ],
   "source": [
    "from sklearn.metrics import confusion_matrix\n",
    "import seaborn as sns\n",
    "confusion = confusion_matrix(y_test , pred)\n",
    "print(confusion)\n",
    "df_cm = pd.DataFrame(confusion , index = ['Negative','Positive'])\n",
    "sns.heatmap(df_cm ,annot = True)\n",
    "plt.xticks([0.5,1.5],['Negative','Positive'],rotation = 45)\n",
    "plt.xlabel(\"Predicted\")\n",
    "plt.ylabel(\"Actual\")\n",
    "plt.show()"
   ]
  },
  {
   "cell_type": "markdown",
   "metadata": {},
   "source": [
    "# Important words(features)"
   ]
  },
  {
   "cell_type": "code",
   "execution_count": 91,
   "metadata": {
    "scrolled": true
   },
   "outputs": [
    {
     "name": "stdout",
     "output_type": "stream",
     "text": [
      "['tast' 'like' 'product' 'one' 'would' 'tri' 'good' 'flavor' 'buy' 'get']\n",
      "['tast' 'like' 'great' 'good' 'love' 'flavor' 'one' 'use' 'tri' 'product']\n"
     ]
    }
   ],
   "source": [
    "neg_class = optimal_clf.feature_log_prob_[0,:].argsort()\n",
    "pos_class = optimal_clf.feature_log_prob_[1,:].argsort()\n",
    "print(np.take(count_vect.get_feature_names(), neg_class[::-1][:10]))\n",
    "print(np.take(count_vect.get_feature_names(), pos_class[::-1][:10]))\n"
   ]
  },
  {
   "cell_type": "markdown",
   "metadata": {},
   "source": [
    "# Multinomial NB on BOW"
   ]
  },
  {
   "cell_type": "code",
   "execution_count": 92,
   "metadata": {
    "collapsed": true
   },
   "outputs": [],
   "source": [
    "from sklearn.naive_bayes import MultinomialNB\n",
    "alp = [10**i for i in range(-3,4)]\n",
    "cross_score = []\n",
    "for alphas in alp:\n",
    "    clf = MultinomialNB(alpha = alphas)\n",
    "    cross_val = cross_val_score(clf,bow_train,y_train,cv=10,scoring = 'accuracy',n_jobs = -1)\n",
    "    cross_score.append(cross_val.mean())"
   ]
  },
  {
   "cell_type": "code",
   "execution_count": 93,
   "metadata": {
    "collapsed": true
   },
   "outputs": [],
   "source": [
    "MSE = [1-x for x in cross_score]\n",
    "optimal_alpha = alp[MSE.index(min(MSE))]\n",
    "optimal_clf = MultinomialNB(alpha = optimal_alpha)\n",
    "optimal_clf.fit(bow_train,y_train)\n",
    "pred  = optimal_clf.predict(bow_test)"
   ]
  },
  {
   "cell_type": "markdown",
   "metadata": {},
   "source": [
    "# Accuracy"
   ]
  },
  {
   "cell_type": "code",
   "execution_count": 94,
   "metadata": {},
   "outputs": [
    {
     "name": "stdout",
     "output_type": "stream",
     "text": [
      "The accuracy for optimal alpha = 1 is 91.64999999999999\n"
     ]
    }
   ],
   "source": [
    "acc = accuracy_score(y_test,pred)*100\n",
    "print(\"The accuracy for optimal alpha = {0} is {1}\".format(optimal_alpha,acc))"
   ]
  },
  {
   "cell_type": "code",
   "execution_count": 95,
   "metadata": {
    "scrolled": false
   },
   "outputs": [
    {
     "name": "stdout",
     "output_type": "stream",
     "text": [
      "             precision    recall  f1-score   support\n",
      "\n",
      "   negative       0.73      0.55      0.63      2541\n",
      "   positive       0.94      0.97      0.95     17459\n",
      "\n",
      "avg / total       0.91      0.92      0.91     20000\n",
      "\n"
     ]
    }
   ],
   "source": [
    "from sklearn.metrics import classification_report\n",
    "print(classification_report(y_test,pred))"
   ]
  },
  {
   "cell_type": "markdown",
   "metadata": {},
   "source": [
    "# Recall , Precison and auc_score"
   ]
  },
  {
   "cell_type": "code",
   "execution_count": 96,
   "metadata": {},
   "outputs": [
    {
     "name": "stdout",
     "output_type": "stream",
     "text": [
      "RECALL SCORE\n",
      "0.969986826279\n",
      "0.548996458087\n",
      "\n",
      "\n",
      "PRECISION SCORE\n",
      "0.936618549859\n",
      "0.726941115164\n"
     ]
    }
   ],
   "source": [
    "from sklearn.metrics import recall_score , precision_score , roc_auc_score ,roc_curve\n",
    "print('RECALL SCORE')\n",
    "print(recall_score(y_test,pred,pos_label = 'positive'))\n",
    "print(recall_score(y_test,pred,pos_label= 'negative') )\n",
    "print('\\n')\n",
    "print('PRECISION SCORE')\n",
    "print(precision_score(y_test,pred,pos_label = 'positive'))\n",
    "print(precision_score(y_test,pred,pos_label = 'negative'))"
   ]
  },
  {
   "cell_type": "markdown",
   "metadata": {},
   "source": [
    "# ROC Curve"
   ]
  },
  {
   "cell_type": "code",
   "execution_count": 97,
   "metadata": {},
   "outputs": [
    {
     "data": {
      "image/png": "[encoded data removed]",
      "text/plain": [
       "<matplotlib.figure.Figure at 0x20c995a17f0>"
      ]
     },
     "metadata": {},
     "output_type": "display_data"
    }
   ],
   "source": [
    "change = lambda x : 1 if x == 'positive' else 0\n",
    "y_true = np.array([change(x) for x in y_test])\n",
    "y_pred =optimal_clf.predict_proba(bow_test)[:,1]\n",
    "fpr,tpr,thresholds = roc_curve(y_true, y_pred)\n",
    "plt.plot(fpr,tpr,'r--')\n",
    "plt.ylabel('True Positive Rate')\n",
    "plt.xlabel('False Positive Rate')\n",
    "plt.legend()\n",
    "plt.show()"
   ]
  },
  {
   "cell_type": "code",
   "execution_count": 98,
   "metadata": {
    "scrolled": false
   },
   "outputs": [
    {
     "name": "stdout",
     "output_type": "stream",
     "text": [
      "0.919729551795\n"
     ]
    }
   ],
   "source": [
    "print(roc_auc_score(y_true,y_pred))"
   ]
  },
  {
   "cell_type": "markdown",
   "metadata": {},
   "source": [
    "# Confusion Matrix"
   ]
  },
  {
   "cell_type": "code",
   "execution_count": 99,
   "metadata": {
    "scrolled": true
   },
   "outputs": [
    {
     "name": "stdout",
     "output_type": "stream",
     "text": [
      "[[ 1395  1146]\n",
      " [  524 16935]]\n"
     ]
    },
    {
     "data": {
      "image/png": "[encoded data removed]",
      "text/plain": [
       "<matplotlib.figure.Figure at 0x20ce8895080>"
      ]
     },
     "metadata": {},
     "output_type": "display_data"
    }
   ],
   "source": [
    "confusion = confusion_matrix(y_test , pred)\n",
    "print(confusion)\n",
    "df_cm = pd.DataFrame(confusion , index = ['Negative','Positive'])\n",
    "sns.heatmap(df_cm ,annot = True)\n",
    "plt.xticks([0.5,1.5],['Negative','Positive'],rotation = 45)\n",
    "plt.xlabel(\"Predicted\")\n",
    "plt.ylabel(\"Actual\")\n",
    "plt.show()"
   ]
  },
  {
   "cell_type": "markdown",
   "metadata": {},
   "source": [
    "# Important words(features)"
   ]
  },
  {
   "cell_type": "code",
   "execution_count": 100,
   "metadata": {
    "scrolled": true
   },
   "outputs": [
    {
     "name": "stdout",
     "output_type": "stream",
     "text": [
      "['tast' 'like' 'product' 'one' 'would' 'tri' 'good' 'flavor' 'buy' 'get']\n",
      "['tast' 'like' 'great' 'good' 'love' 'flavor' 'one' 'use' 'tri' 'product']\n"
     ]
    }
   ],
   "source": [
    "neg_class = optimal_clf.feature_log_prob_[0,:].argsort()\n",
    "pos_class = optimal_clf.feature_log_prob_[1,:].argsort()\n",
    "print(np.take(count_vect.get_feature_names(), neg_class[::-1][:10]))\n",
    "print(np.take(count_vect.get_feature_names(), pos_class[::-1][:10]))\n"
   ]
  },
  {
   "cell_type": "markdown",
   "metadata": {},
   "source": [
    "# Naive Bayes on Tf-idf"
   ]
  },
  {
   "cell_type": "code",
   "execution_count": 101,
   "metadata": {
    "collapsed": true
   },
   "outputs": [],
   "source": [
    "tfidf_vect = TfidfVectorizer(ngram_range = (1,2))\n",
    "tfidf_train = tfidf_vect.fit_transform(X_train)\n",
    "tfidf_test = tfidf_vect.transform(X_test)"
   ]
  },
  {
   "cell_type": "code",
   "execution_count": 102,
   "metadata": {
    "collapsed": true
   },
   "outputs": [],
   "source": [
    "from sklearn.preprocessing import StandardScaler\n",
    "sc = StandardScaler(with_mean = False)\n",
    "X_tr= sc.fit_transform(tfidf_train)\n",
    "X_te = sc.transform(tfidf_test)"
   ]
  },
  {
   "cell_type": "code",
   "execution_count": 103,
   "metadata": {
    "collapsed": true
   },
   "outputs": [],
   "source": [
    "alp_1 = [10**i for i in range(-3,4)]"
   ]
  },
  {
   "cell_type": "code",
   "execution_count": 104,
   "metadata": {
    "collapsed": true
   },
   "outputs": [],
   "source": [
    "cross_score_1 = []\n",
    "for alphas in alp_1:\n",
    "    clf_1 = BernoulliNB(alpha = alphas)\n",
    "    cross_val_1 = cross_val_score(clf_1,X_tr,y_train,cv=10,scoring = 'accuracy',n_jobs = -1)\n",
    "    cross_score_1.append(cross_val_1.mean())"
   ]
  },
  {
   "cell_type": "code",
   "execution_count": 105,
   "metadata": {
    "collapsed": true
   },
   "outputs": [],
   "source": [
    "MSE_1 = [1-x for x in cross_score_1]\n",
    "opt_alpha = alp_1[MSE_1.index(min(MSE_1))]"
   ]
  },
  {
   "cell_type": "code",
   "execution_count": 106,
   "metadata": {
    "collapsed": true
   },
   "outputs": [],
   "source": [
    "opt_clf = BernoulliNB(alpha = opt_alpha)\n",
    "opt_clf.fit(X_tr,y_train)\n",
    "pred_1  = opt_clf.predict(X_te)"
   ]
  },
  {
   "cell_type": "markdown",
   "metadata": {},
   "source": [
    "# Accuracy"
   ]
  },
  {
   "cell_type": "code",
   "execution_count": 107,
   "metadata": {},
   "outputs": [
    {
     "name": "stdout",
     "output_type": "stream",
     "text": [
      "The accuracy for optimal alpha = 0.001 is 90.0\n"
     ]
    }
   ],
   "source": [
    "acc_1 = accuracy_score(y_test,pred_1)*100\n",
    "print(\"The accuracy for optimal alpha = {0} is {1}\".format(opt_alpha,acc_1))"
   ]
  },
  {
   "cell_type": "code",
   "execution_count": 109,
   "metadata": {
    "scrolled": true
   },
   "outputs": [
    {
     "name": "stdout",
     "output_type": "stream",
     "text": [
      "             precision    recall  f1-score   support\n",
      "\n",
      "   negative       0.86      0.25      0.39      2541\n",
      "   positive       0.90      0.99      0.95     17459\n",
      "\n",
      "avg / total       0.90      0.90      0.88     20000\n",
      "\n"
     ]
    }
   ],
   "source": [
    "from sklearn.metrics import classification_report\n",
    "print(classification_report(y_test,pred_1))"
   ]
  },
  {
   "cell_type": "markdown",
   "metadata": {},
   "source": [
    "# Recall , Precision and auc_score"
   ]
  },
  {
   "cell_type": "code",
   "execution_count": 110,
   "metadata": {},
   "outputs": [
    {
     "name": "stdout",
     "output_type": "stream",
     "text": [
      "RECALL SCORE\n",
      "0.994043186895\n",
      "0.253837072019\n",
      "\n",
      "\n",
      "PRECISION SCORE\n",
      "0.901511609787\n",
      "0.861148197597\n"
     ]
    }
   ],
   "source": [
    "from sklearn.metrics import recall_score , precision_score , roc_auc_score ,roc_curve\n",
    "print('RECALL SCORE')\n",
    "print(recall_score(y_test,pred_1,pos_label = 'positive'))\n",
    "print(recall_score(y_test,pred_1,pos_label= 'negative') )\n",
    "print('\\n')\n",
    "print('PRECISION SCORE')\n",
    "print(precision_score(y_test,pred_1,pos_label = 'positive'))\n",
    "print(precision_score(y_test,pred_1,pos_label = 'negative'))"
   ]
  },
  {
   "cell_type": "markdown",
   "metadata": {},
   "source": [
    "# ROC Curve"
   ]
  },
  {
   "cell_type": "code",
   "execution_count": 111,
   "metadata": {},
   "outputs": [
    {
     "data": {
      "image/png": "[encoded data removed]",
      "text/plain": [
       "<matplotlib.figure.Figure at 0x20ca71b73c8>"
      ]
     },
     "metadata": {},
     "output_type": "display_data"
    }
   ],
   "source": [
    "change = lambda x : 1 if x == 'positive' else 0\n",
    "tfidf_true = np.array([change(x) for x in y_test])\n",
    "tfidf_pred =opt_clf.predict_proba(X_te)[:,1]\n",
    "fpr,tpr,thresholds = roc_curve(tfidf_true, tfidf_pred)\n",
    "plt.plot(fpr,tpr,'r--')\n",
    "plt.ylabel('True Positive Rate')\n",
    "plt.xlabel('False Positive Rate')\n",
    "plt.legend()\n",
    "plt.show()"
   ]
  },
  {
   "cell_type": "code",
   "execution_count": 112,
   "metadata": {},
   "outputs": [
    {
     "name": "stdout",
     "output_type": "stream",
     "text": [
      "0.789832981162\n"
     ]
    }
   ],
   "source": [
    "print(roc_auc_score(tfidf_true,tfidf_pred))"
   ]
  },
  {
   "cell_type": "markdown",
   "metadata": {},
   "source": [
    "# confusion matrix"
   ]
  },
  {
   "cell_type": "code",
   "execution_count": 113,
   "metadata": {},
   "outputs": [
    {
     "name": "stdout",
     "output_type": "stream",
     "text": [
      "[[  645  1896]\n",
      " [  104 17355]]\n"
     ]
    },
    {
     "data": {
      "image/png": "[encoded data removed]",
      "text/plain": [
       "<matplotlib.figure.Figure at 0x20ca71b7208>"
      ]
     },
     "metadata": {},
     "output_type": "display_data"
    }
   ],
   "source": [
    "from sklearn.metrics import confusion_matrix\n",
    "import seaborn as sns\n",
    "confusion = confusion_matrix(y_test , pred_1)\n",
    "print(confusion)\n",
    "df_cm = pd.DataFrame(confusion , index = ['Negative','Positive'])\n",
    "sns.heatmap(df_cm ,annot = True)\n",
    "plt.xticks([0.5,1.5],['Negative','Positive'],rotation = 45)\n",
    "plt.xlabel(\"Predicted\")\n",
    "plt.ylabel(\"Actual\")\n",
    "plt.show()"
   ]
  },
  {
   "cell_type": "markdown",
   "metadata": {},
   "source": [
    "# Important Words (features)"
   ]
  },
  {
   "cell_type": "code",
   "execution_count": 114,
   "metadata": {
    "scrolled": false
   },
   "outputs": [
    {
     "name": "stdout",
     "output_type": "stream",
     "text": [
      "['tast' 'like' 'product' 'one' 'would' 'tri' 'good' 'flavor' 'buy' 'get']\n",
      "['tast' 'like' 'great' 'good' 'love' 'flavor' 'one' 'use' 'tri' 'product']\n"
     ]
    }
   ],
   "source": [
    "ne_class = opt_clf.feature_log_prob_[0,:].argsort()\n",
    "po_class = opt_clf.feature_log_prob_[1,:].argsort()\n",
    "print(np.take(tfidf_vect.get_feature_names(), ne_class[::-1][:10]))\n",
    "print(np.take(tfidf_vect.get_feature_names(), po_class[::-1][:10]))\n"
   ]
  },
  {
   "cell_type": "markdown",
   "metadata": {},
   "source": [
    "# Multinomial NB on tfidf "
   ]
  },
  {
   "cell_type": "code",
   "execution_count": 115,
   "metadata": {
    "collapsed": true
   },
   "outputs": [],
   "source": [
    "from sklearn.naive_bayes import MultinomialNB\n",
    "alp = [10**i for i in range(-3,4)]\n",
    "cross_score = []\n",
    "for alphas in alp:\n",
    "    clf = MultinomialNB(alpha = alphas)\n",
    "    cross_val = cross_val_score(clf,X_tr,y_train,cv=10,scoring = 'accuracy',n_jobs = -1)\n",
    "    cross_score.append(cross_val.mean())"
   ]
  },
  {
   "cell_type": "code",
   "execution_count": 116,
   "metadata": {
    "collapsed": true
   },
   "outputs": [],
   "source": [
    "MSE = [1-x for x in cross_score]\n",
    "optimal_alpha = alp[MSE.index(min(MSE))]\n",
    "optimal_clf = MultinomialNB(alpha = optimal_alpha)\n",
    "optimal_clf.fit(X_tr,y_train)\n",
    "pred  = optimal_clf.predict(X_te)"
   ]
  },
  {
   "cell_type": "markdown",
   "metadata": {},
   "source": [
    "# Accuracy"
   ]
  },
  {
   "cell_type": "code",
   "execution_count": 117,
   "metadata": {
    "scrolled": false
   },
   "outputs": [
    {
     "name": "stdout",
     "output_type": "stream",
     "text": [
      "The accuracy for optimal alpha = 0.001 is 86.36\n"
     ]
    }
   ],
   "source": [
    "acc = accuracy_score(y_test,pred)*100\n",
    "print(\"The accuracy for optimal alpha = {0} is {1}\".format(optimal_alpha,acc))"
   ]
  },
  {
   "cell_type": "code",
   "execution_count": 118,
   "metadata": {
    "scrolled": true
   },
   "outputs": [
    {
     "name": "stdout",
     "output_type": "stream",
     "text": [
      "             precision    recall  f1-score   support\n",
      "\n",
      "   negative       0.41      0.17      0.24      2541\n",
      "   positive       0.89      0.96      0.93     17459\n",
      "\n",
      "avg / total       0.83      0.86      0.84     20000\n",
      "\n"
     ]
    }
   ],
   "source": [
    "from sklearn.metrics import classification_report\n",
    "print(classification_report(y_test,pred))"
   ]
  },
  {
   "cell_type": "markdown",
   "metadata": {},
   "source": [
    "# Recall , Precision and auc_score"
   ]
  },
  {
   "cell_type": "code",
   "execution_count": 119,
   "metadata": {
    "scrolled": true
   },
   "outputs": [
    {
     "name": "stdout",
     "output_type": "stream",
     "text": [
      "RECALL SCORE\n",
      "0.964201844321\n",
      "0.172373081464\n",
      "\n",
      "\n",
      "PRECISION SCORE\n",
      "0.888947562972\n",
      "0.412041392286\n"
     ]
    }
   ],
   "source": [
    "from sklearn.metrics import recall_score , precision_score , roc_auc_score ,roc_curve\n",
    "print('RECALL SCORE')\n",
    "print(recall_score(y_test,pred,pos_label = 'positive'))\n",
    "print(recall_score(y_test,pred,pos_label= 'negative') )\n",
    "print('\\n')\n",
    "print('PRECISION SCORE')\n",
    "print(precision_score(y_test,pred,pos_label = 'positive'))\n",
    "print(precision_score(y_test,pred,pos_label = 'negative'))"
   ]
  },
  {
   "cell_type": "markdown",
   "metadata": {},
   "source": [
    "# ROC Curve"
   ]
  },
  {
   "cell_type": "code",
   "execution_count": 120,
   "metadata": {},
   "outputs": [
    {
     "data": {
      "image/png": "[encoded data removed]",
      "text/plain": [
       "<matplotlib.figure.Figure at 0x20cebab16a0>"
      ]
     },
     "metadata": {},
     "output_type": "display_data"
    }
   ],
   "source": [
    "change = lambda x : 1 if x == 'positive' else 0\n",
    "y_true = np.array([change(x) for x in y_test])\n",
    "y_pred =optimal_clf.predict_proba(X_te)[:,1]\n",
    "fpr,tpr,thresholds = roc_curve(y_true, y_pred)\n",
    "plt.plot(fpr,tpr,'r--')\n",
    "plt.ylabel('True Positive Rate')\n",
    "plt.xlabel('False Positive Rate')\n",
    "plt.legend()\n",
    "plt.show()"
   ]
  },
  {
   "cell_type": "code",
   "execution_count": 121,
   "metadata": {
    "scrolled": false
   },
   "outputs": [
    {
     "name": "stdout",
     "output_type": "stream",
     "text": [
      "0.568656348728\n"
     ]
    }
   ],
   "source": [
    "print(roc_auc_score(y_true,y_pred))"
   ]
  },
  {
   "cell_type": "markdown",
   "metadata": {},
   "source": [
    "# confusion matrix"
   ]
  },
  {
   "cell_type": "code",
   "execution_count": 122,
   "metadata": {
    "scrolled": true
   },
   "outputs": [
    {
     "name": "stdout",
     "output_type": "stream",
     "text": [
      "[[  438  2103]\n",
      " [  625 16834]]\n"
     ]
    },
    {
     "data": {
      "image/png": "[encoded data removed]",
      "text/plain": [
       "<matplotlib.figure.Figure at 0x20ce052ad30>"
      ]
     },
     "metadata": {},
     "output_type": "display_data"
    }
   ],
   "source": [
    "confusion = confusion_matrix(y_test , pred)\n",
    "print(confusion)\n",
    "df_cm = pd.DataFrame(confusion , index = ['Negative','Positive'])\n",
    "sns.heatmap(df_cm ,annot = True)\n",
    "plt.xticks([0.5,1.5],['Negative','Positive'],rotation = 45)\n",
    "plt.xlabel(\"Predicted\")\n",
    "plt.ylabel(\"Actual\")\n",
    "plt.show()"
   ]
  },
  {
   "cell_type": "markdown",
   "metadata": {},
   "source": [
    "# Important Words (features)"
   ]
  },
  {
   "cell_type": "code",
   "execution_count": 124,
   "metadata": {
    "scrolled": true
   },
   "outputs": [
    {
     "name": "stdout",
     "output_type": "stream",
     "text": [
      "['tast' 'like' 'disappoint' 'product' 'would' 'one' 'bad' 'money' 'tri'\n",
      " 'dont']\n",
      "['great' 'tast' 'love' 'like' 'good' 'flavor' 'use' 'one' 'tri' 'make']\n"
     ]
    }
   ],
   "source": [
    "neg_class = optimal_clf.feature_log_prob_[0,:].argsort()\n",
    "pos_class = optimal_clf.feature_log_prob_[1,:].argsort()\n",
    "print(np.take(tfidf_vect.get_feature_names(), neg_class[::-1][:10]))\n",
    "print(np.take(tfidf_vect.get_feature_names(), pos_class[::-1][:10]))\n"
   ]
  },
  {
   "cell_type": "markdown",
   "metadata": {},
   "source": [
    "<h1>Report</h1>\n",
    "<h3>Bernoulii NB on BOW</h3>\n",
    "* Optimal alpha = 0.001\n",
    "* Accuracy = 89.995\n",
    "* Precision = 0.936(positive), 0.623(negative)\n",
    "* Recall = 0.953 ,0.534\n",
    "* AUC = 0.881\n",
    "* TN = 1359\n",
    "* TP = 16640\n",
    "<h3>Bernoulii NB on TF-IDF</h3>\n",
    "* Optimal alpha = .001\n",
    "* Accuracy = 90.0\n",
    "* Precision = 0.901, 0.861\n",
    "* Recall = 0.994, 0.253\n",
    "* AUC = 0.789\n",
    "* TN = 645\n",
    "* TP = 17355\n",
    "<h3>Multinomial NB on BOW</h3>\n",
    "* Optimal alpha = 1\n",
    "* Accuracy = 91.649\n",
    "* Precision = 0.936 , 0.726\n",
    "* Recall = 0.969 , 0.548\n",
    "* AUC = 0.919\n",
    "* TN = 1395\n",
    "* TP = 16935\n",
    "<h3>Multinomial NB on TF-IDF</h3>\n",
    "* Optimal alpha = .001\n",
    "* Accuracy = 86.36\n",
    "* Precision = .888, 0.412\n",
    "* Recall = .964, 0.172\n",
    "* AUC = 0.568\n",
    "* TN = 438\n",
    "* TP = 16834"
   ]
  },
  {
   "cell_type": "code",
   "execution_count": null,
   "metadata": {
    "collapsed": true
   },
   "outputs": [],
   "source": []
  }
 ],
 "metadata": {
  "kernelspec": {
   "display_name": "Python 3",
   "language": "python",
   "name": "python3"
  },
  "language_info": {
   "codemirror_mode": {
    "name": "ipython",
    "version": 3
   },
   "file_extension": ".py",
   "mimetype": "text/x-python",
   "name": "python",
   "nbconvert_exporter": "python",
   "pygments_lexer": "ipython3",
   "version": "3.6.3"
  }
 },
 "nbformat": 4,
 "nbformat_minor": 2
}
